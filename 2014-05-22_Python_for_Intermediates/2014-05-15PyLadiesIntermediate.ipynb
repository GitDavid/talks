{
 "metadata": {
  "name": ""
 },
 "nbformat": 3,
 "nbformat_minor": 0,
 "worksheets": [
  {
   "cells": [
    {
     "cell_type": "markdown",
     "metadata": {},
     "source": [
      "PyLadies | Intermediate Python\n",
      "==============================\n",
      "\n",
      "### Paul Logston on 2014-05-16"
     ]
    },
    {
     "cell_type": "markdown",
     "metadata": {},
     "source": [
      "## What will we cover?\n",
      "\n",
      " - Breif review of the basics (20 min)\n",
      "     - list comphrensions\n",
      "     - dictionary comprehensions\n",
      " - Objects (20 min)\n",
      "     - multiple inheritance\n",
      " - Exceptions (15 min)\n",
      "     - pdb\n",
      "     - raising your own\n",
      "     - handling them\n",
      " - unittests (10 min)\n",
      " - import requests, BeautifulSoup, & parse a web page (20 min)\n",
      " - import matplotlib & graphing (20 min)\n",
      " - Decorators (20 min)\n",
      " - Generators (20 min)"
     ]
    },
    {
     "cell_type": "markdown",
     "metadata": {},
     "source": [
      "### What we need"
     ]
    },
    {
     "cell_type": "code",
     "collapsed": false,
     "input": [
      "from collections import Counter\n",
      "import math\n",
      "from pprint import pprint\n",
      "import sys\n",
      "import unittest\n",
      "\n",
      "from bs4 import BeautifulSoup\n",
      "import requests\n",
      "import sqlalchemy"
     ],
     "language": "python",
     "metadata": {},
     "outputs": [],
     "prompt_number": 2
    },
    {
     "cell_type": "markdown",
     "metadata": {},
     "source": [
      "## Some Basics\n",
      "\n",
      "### List Comprehensions\n",
      "#### https://docs.python.org/2/tutorial/datastructures.html#list-comprehensions"
     ]
    },
    {
     "cell_type": "code",
     "collapsed": false,
     "input": [
      "book0 = {'title': 'What a great book!', 'pages': 42, 'author': 'Aurthor Authington'} \n",
      "book1 = {'title': 'The beauty of a day inside with Python.', 'pages': 330, 'author': 'Mike Lane'}\n",
      "book2 = {'title': 'Did some one say MadMen?', 'pages': 971, 'author': 'The Hulk'}\n",
      "\n",
      "shelf = [book0, book1, book2]  # Order of items in list preserved."
     ],
     "language": "python",
     "metadata": {},
     "outputs": [],
     "prompt_number": 3
    },
    {
     "cell_type": "markdown",
     "metadata": {},
     "source": [
      "What if I wanted to add an ID to each book based on its order within shelf?"
     ]
    },
    {
     "cell_type": "code",
     "collapsed": false,
     "input": [
      "id = 0\n",
      "for book in shelf:\n",
      "    book['id'] = id\n",
      "    id += 1\n",
      "pprint(shelf)"
     ],
     "language": "python",
     "metadata": {},
     "outputs": [
      {
       "output_type": "stream",
       "stream": "stdout",
       "text": [
        "[{'author': 'Aurthor Authington',\n",
        "  'id': 0,\n",
        "  'pages': 42,\n",
        "  'title': 'What a great book!'},\n",
        " {'author': 'Mike Lane',\n",
        "  'id': 1,\n",
        "  'pages': 330,\n",
        "  'title': 'The beauty of a day inside with Python.'},\n",
        " {'author': 'The Hulk',\n",
        "  'id': 2,\n",
        "  'pages': 971,\n",
        "  'title': 'Did some one say MadMen?'}]\n"
       ]
      }
     ],
     "prompt_number": 4
    },
    {
     "cell_type": "markdown",
     "metadata": {},
     "source": [
      "But lets use some of the tools that make Python Python."
     ]
    },
    {
     "cell_type": "code",
     "collapsed": false,
     "input": [
      "shelf = [dict(book.items() + {'id': n}.items()) for n, book in enumerate(shelf)]\n",
      "pprint(shelf)"
     ],
     "language": "python",
     "metadata": {},
     "outputs": [
      {
       "output_type": "stream",
       "stream": "stdout",
       "text": [
        "[{'author': 'Aurthor Authington',\n",
        "  'id': 0,\n",
        "  'pages': 42,\n",
        "  'title': 'What a great book!'},\n",
        " {'author': 'Mike Lane',\n",
        "  'id': 1,\n",
        "  'pages': 330,\n",
        "  'title': 'The beauty of a day inside with Python.'},\n",
        " {'author': 'The Hulk',\n",
        "  'id': 2,\n",
        "  'pages': 971,\n",
        "  'title': 'Did some one say MadMen?'}]\n"
       ]
      }
     ],
     "prompt_number": 5
    },
    {
     "cell_type": "code",
     "collapsed": false,
     "input": [
      "book1.items()  # .items() gives us back a list of 2-tuples. Side note: Why didn't we see our 'id' in book1's list of tuples?"
     ],
     "language": "python",
     "metadata": {},
     "outputs": [
      {
       "metadata": {},
       "output_type": "pyout",
       "prompt_number": 6,
       "text": [
        "[('id', 1),\n",
        " ('author', 'Mike Lane'),\n",
        " ('pages', 330),\n",
        " ('title', 'The beauty of a day inside with Python.')]"
       ]
      }
     ],
     "prompt_number": 6
    },
    {
     "cell_type": "markdown",
     "metadata": {},
     "source": [
      "### Dictionary Comprehensions\n",
      "#### https://docs.python.org/2/tutorial/datastructures.html#dictionaries"
     ]
    },
    {
     "cell_type": "code",
     "collapsed": false,
     "input": [
      "experiment = {\n",
      "    'sensor1': [91, 58, 41, 98, 66, 60, 70, 43, 96, 79],\n",
      "    'sensor2': [43, 42, 83, 83, 69, 68, 43, 42, 53, 63],\n",
      "    'sensor3': [82, 62, 93, 99, 53, 60, 79, 52, 52, 59],\n",
      "    'sensor4': [52, 88, 72, 83, 65, 53, 41, 69, 73, 66],\n",
      "    'sensor5': [83, 76, 76, 81, 45, 49, 64, 80, 43, 61],\n",
      "    # ...\n",
      "}"
     ],
     "language": "python",
     "metadata": {},
     "outputs": [],
     "prompt_number": 7
    },
    {
     "cell_type": "markdown",
     "metadata": {},
     "source": [
      "NB. I ran...\n",
      "    \n",
      "    python -c \"import random; print [random.randint(40, 100) for _ in range(10)]\"\n",
      "\n",
      "at the command line 5 times to get this fake data."
     ]
    },
    {
     "cell_type": "markdown",
     "metadata": {},
     "source": [
      "I need to find the average temparture for each sensor."
     ]
    },
    {
     "cell_type": "code",
     "collapsed": false,
     "input": [
      "avg = lambda seq: sum(seq) / len(seq)  # Lambda function.\n",
      "\n",
      "{sensor: avg(temps) for sensor, temps in experiment.items()}"
     ],
     "language": "python",
     "metadata": {},
     "outputs": [
      {
       "metadata": {},
       "output_type": "pyout",
       "prompt_number": 8,
       "text": [
        "{'sensor1': 70, 'sensor2': 58, 'sensor3': 69, 'sensor4': 66, 'sensor5': 65}"
       ]
      }
     ],
     "prompt_number": 8
    },
    {
     "cell_type": "markdown",
     "metadata": {},
     "source": [
      "What if we had some false readings in our data and we wanted to exculde those values that clearly wrong (ie. negative values)? Let's assume we are on a Kelvin scale."
     ]
    },
    {
     "cell_type": "code",
     "collapsed": false,
     "input": [
      "experiment = {\n",
      "    'sensor1': [91, 2, 6, 32, 24, 64, 19, 18, -5, 38],\n",
      "    'sensor2': [18, -3, 83, 7, 63, 52, 11, -4, 42, 16],\n",
      "    'sensor3': [1, 24, 0, -5, 74, 15, -1, 27, -5, 88],\n",
      "    'sensor4': [26, 45, 35, -7, 63, 14, 15, 12, 19, 91],\n",
      "    'sensor5': [78, 21, -9, -6, 52, 83, 79, 78, 13, 10],\n",
      "    # ...\n",
      "}\n",
      "{sensor: avg([temp for temp in temps if temp > 0]) for sensor, temps in experiment.items()}"
     ],
     "language": "python",
     "metadata": {},
     "outputs": [
      {
       "metadata": {},
       "output_type": "pyout",
       "prompt_number": 9,
       "text": [
        "{'sensor1': 32, 'sensor2': 36, 'sensor3': 38, 'sensor4': 35, 'sensor5': 51}"
       ]
      }
     ],
     "prompt_number": 9
    },
    {
     "cell_type": "code",
     "collapsed": false,
     "input": [
      "# Remove negative values by hand.\n",
      "experiment_no_negative_values = {\n",
      "    'sensor1': [91, 2, 6, 32, 24, 64, 19, 18, 38],\n",
      "    'sensor2': [18, 83, 7, 63, 52, 11, 42, 16],\n",
      "    'sensor3': [1, 24, 0, 74, 15, 27, 88],\n",
      "    'sensor4': [26, 45, 35, 63, 14, 15, 12, 19, 91],\n",
      "    'sensor5': [78, 21, 52, 83, 79, 78, 13, 10],\n",
      "    # ...\n",
      "}\n",
      "{sensor: avg(temps) for sensor, temps in experiment_no_negative_values.items()}"
     ],
     "language": "python",
     "metadata": {},
     "outputs": [
      {
       "metadata": {},
       "output_type": "pyout",
       "prompt_number": 10,
       "text": [
        "{'sensor1': 32, 'sensor2': 36, 'sensor3': 32, 'sensor4': 35, 'sensor5': 51}"
       ]
      }
     ],
     "prompt_number": 10
    },
    {
     "cell_type": "markdown",
     "metadata": {},
     "source": [
      "## Objects"
     ]
    },
    {
     "cell_type": "markdown",
     "metadata": {},
     "source": [
      "Wouldn't it be great if we had a data sturcture that, like a list or dictionary, held data for but held data in form that was more specific to our use case? Wouldn't it be great if that data structure had functions attached it and those functions could manipulate the data in ways that made sense given what data we have and our use case?"
     ]
    },
    {
     "cell_type": "code",
     "collapsed": false,
     "input": [
      "class Book(object):  # What is object doing here? https://docs.python.org/release/2.2.3/whatsnew/sect-rellinks.html#SECTION00031\n",
      "    def __init__(self, title, author, pages):\n",
      "        self.title = title\n",
      "        self.author = author\n",
      "        self.pages = pages\n",
      "book1 = Book('Sun on a Sunday: A day at the beach!', 'Glenda Roberts', 44)"
     ],
     "language": "python",
     "metadata": {},
     "outputs": [],
     "prompt_number": 11
    },
    {
     "cell_type": "code",
     "collapsed": false,
     "input": [
      "book1"
     ],
     "language": "python",
     "metadata": {},
     "outputs": [
      {
       "metadata": {},
       "output_type": "pyout",
       "prompt_number": 12,
       "text": [
        "<__main__.Book at 0x10be22a10>"
       ]
      }
     ],
     "prompt_number": 12
    },
    {
     "cell_type": "code",
     "collapsed": false,
     "input": [
      "book1.title"
     ],
     "language": "python",
     "metadata": {},
     "outputs": [
      {
       "metadata": {},
       "output_type": "pyout",
       "prompt_number": 13,
       "text": [
        "'Sun on a Sunday: A day at the beach!'"
       ]
      }
     ],
     "prompt_number": 13
    },
    {
     "cell_type": "code",
     "collapsed": false,
     "input": [
      "book1.title = 'Sun on a Sunday'\n",
      "book1.subtitle = 'A day at the beach!'"
     ],
     "language": "python",
     "metadata": {},
     "outputs": [],
     "prompt_number": 14
    },
    {
     "cell_type": "code",
     "collapsed": false,
     "input": [
      "book1.subtitle"
     ],
     "language": "python",
     "metadata": {},
     "outputs": [
      {
       "metadata": {},
       "output_type": "pyout",
       "prompt_number": 15,
       "text": [
        "'A day at the beach!'"
       ]
      }
     ],
     "prompt_number": 15
    },
    {
     "cell_type": "markdown",
     "metadata": {},
     "source": [
      "I need a function that returns the number of pages I will need to print when I produce a book.\n",
      "Let's assume that I have to print an extra 5 per book when producing a book.\n",
      "\n",
      "Let's also assume that the cost of producing a book is specified by this function:\n",
      "\n",
      "    cost of printing a book ($) = square root of the number of pages we need to print to produce the book."
     ]
    },
    {
     "cell_type": "code",
     "collapsed": false,
     "input": [
      "class Book(object):\n",
      "    def __init__(self, title, author, pages):\n",
      "        self.title = title\n",
      "        self.author = author\n",
      "        self.pages = pages\n",
      "\n",
      "    def printed_pages(self):\n",
      "        return self.pages + 5\n",
      "    \n",
      "    def cost(self):\n",
      "        return math.sqrt(self.printed_pages())"
     ],
     "language": "python",
     "metadata": {},
     "outputs": [],
     "prompt_number": 16
    },
    {
     "cell_type": "code",
     "collapsed": false,
     "input": [
      "book1 = Book('Sun on a Sunday: A day at the beach!', 'Glenda Roberts', 44)\n",
      "book1.printed_pages()"
     ],
     "language": "python",
     "metadata": {},
     "outputs": [
      {
       "metadata": {},
       "output_type": "pyout",
       "prompt_number": 17,
       "text": [
        "49"
       ]
      }
     ],
     "prompt_number": 17
    },
    {
     "cell_type": "code",
     "collapsed": false,
     "input": [
      "book1.cost()"
     ],
     "language": "python",
     "metadata": {},
     "outputs": [
      {
       "metadata": {},
       "output_type": "pyout",
       "prompt_number": 18,
       "text": [
        "7.0"
       ]
      }
     ],
     "prompt_number": 18
    },
    {
     "cell_type": "markdown",
     "metadata": {},
     "source": [
      "### Method Resolution Order / Multiple Inheritance\n",
      "#### https://docs.python.org/2/tutorial/classes.html#multiple-inheritance"
     ]
    },
    {
     "cell_type": "code",
     "collapsed": false,
     "input": [
      "class PrintableMixin(object):\n",
      "    def cost(self):\n",
      "        return math.sqrt(self.printed_pages())\n",
      "    \n",
      "class Book(PrintableMixin, object):\n",
      "    def __init__(self, title, author, pages):\n",
      "        self.title = title\n",
      "        self.author = author\n",
      "        self.pages = pages\n",
      "\n",
      "    def printed_pages(self):\n",
      "        return self.pages + 5\n",
      "    \n",
      "class Magazine(PrintableMixin, object):\n",
      "    def __init__(self, title, volume, pages):\n",
      "        self.title = title\n",
      "        self.volume = volume\n",
      "        self.pages = pages\n",
      "\n",
      "    def printed_pages(self):\n",
      "        return self.pages + 2"
     ],
     "language": "python",
     "metadata": {},
     "outputs": [],
     "prompt_number": 19
    },
    {
     "cell_type": "code",
     "collapsed": false,
     "input": [
      "Book('Sun on a Sunday: A day at the beach!', 'Glenda Roberts', 44).cost()"
     ],
     "language": "python",
     "metadata": {},
     "outputs": [
      {
       "metadata": {},
       "output_type": "pyout",
       "prompt_number": 20,
       "text": [
        "7.0"
       ]
      }
     ],
     "prompt_number": 20
    },
    {
     "cell_type": "code",
     "collapsed": false,
     "input": [
      "Magazine('Python and Pythons: Analyzing serpents with your favorite scripting language.', 11, 79).cost()"
     ],
     "language": "python",
     "metadata": {},
     "outputs": [
      {
       "metadata": {},
       "output_type": "pyout",
       "prompt_number": 21,
       "text": [
        "9.0"
       ]
      }
     ],
     "prompt_number": 21
    },
    {
     "cell_type": "code",
     "collapsed": false,
     "input": [
      "class BooMag(Book, Magazine):\n",
      "    def __init__(self, title, author, volume, pages):\n",
      "        super(Book, self).__init__(title, author, pages)\n",
      "        super(Magazine, self).__init__()"
     ],
     "language": "python",
     "metadata": {},
     "outputs": [],
     "prompt_number": 22
    },
    {
     "cell_type": "code",
     "collapsed": false,
     "input": [
      "BooMag(\"Which One's it going to be?\", 'Gina James', 12, 44).cost()"
     ],
     "language": "python",
     "metadata": {},
     "outputs": [
      {
       "metadata": {},
       "output_type": "pyout",
       "prompt_number": 23,
       "text": [
        "7.0"
       ]
      }
     ],
     "prompt_number": 23
    },
    {
     "cell_type": "code",
     "collapsed": false,
     "input": [
      "class MagBoo(Magazine, Book):\n",
      "    def __init__(self, title, author, volume, pages):\n",
      "        super(Book, self).__init__()\n",
      "        super(Magazine, self).__init__(title, volume, pages)"
     ],
     "language": "python",
     "metadata": {},
     "outputs": [],
     "prompt_number": 24
    },
    {
     "cell_type": "code",
     "collapsed": false,
     "input": [
      "MagBoo(\"Which One's it going to be?\", 'Gina James', 12, 79).cost()"
     ],
     "language": "python",
     "metadata": {},
     "outputs": [
      {
       "metadata": {},
       "output_type": "pyout",
       "prompt_number": 25,
       "text": [
        "9.0"
       ]
      }
     ],
     "prompt_number": 25
    },
    {
     "cell_type": "code",
     "collapsed": false,
     "input": [
      "m = MagBoo('You,', 'Auth', 1, 84)"
     ],
     "language": "python",
     "metadata": {},
     "outputs": [],
     "prompt_number": 26
    },
    {
     "cell_type": "code",
     "collapsed": false,
     "input": [
      "b = BooMag('You,', 'Auth', 1, 84)"
     ],
     "language": "python",
     "metadata": {},
     "outputs": [],
     "prompt_number": 27
    },
    {
     "cell_type": "code",
     "collapsed": false,
     "input": [
      "b.author"
     ],
     "language": "python",
     "metadata": {},
     "outputs": [
      {
       "ename": "AttributeError",
       "evalue": "'BooMag' object has no attribute 'author'",
       "output_type": "pyerr",
       "traceback": [
        "\u001b[0;31m---------------------------------------------------------------------------\u001b[0m\n\u001b[0;31mAttributeError\u001b[0m                            Traceback (most recent call last)",
        "\u001b[0;32m<ipython-input-28-7ac941eedab9>\u001b[0m in \u001b[0;36m<module>\u001b[0;34m()\u001b[0m\n\u001b[0;32m----> 1\u001b[0;31m \u001b[0mb\u001b[0m\u001b[0;34m.\u001b[0m\u001b[0mauthor\u001b[0m\u001b[0;34m\u001b[0m\u001b[0m\n\u001b[0m",
        "\u001b[0;31mAttributeError\u001b[0m: 'BooMag' object has no attribute 'author'"
       ]
      }
     ],
     "prompt_number": 28
    },
    {
     "cell_type": "markdown",
     "metadata": {},
     "source": [
      "QUESTION TO ASK. Why can't we have multiple objects providing properties/attributes (another q, what is the proper term) to these objects?"
     ]
    },
    {
     "cell_type": "markdown",
     "metadata": {},
     "source": [
      "## Exceptions\n",
      "#### https://docs.python.org/2/tutorial/errors.html"
     ]
    },
    {
     "cell_type": "code",
     "collapsed": false,
     "input": [
      "d = {'name': 'Pat'}"
     ],
     "language": "python",
     "metadata": {},
     "outputs": [],
     "prompt_number": 29
    },
    {
     "cell_type": "code",
     "collapsed": false,
     "input": [
      "d[0]"
     ],
     "language": "python",
     "metadata": {},
     "outputs": [
      {
       "ename": "KeyError",
       "evalue": "0",
       "output_type": "pyerr",
       "traceback": [
        "\u001b[0;31m---------------------------------------------------------------------------\u001b[0m\n\u001b[0;31mKeyError\u001b[0m                                  Traceback (most recent call last)",
        "\u001b[0;32m<ipython-input-30-17371c6688f6>\u001b[0m in \u001b[0;36m<module>\u001b[0;34m()\u001b[0m\n\u001b[0;32m----> 1\u001b[0;31m \u001b[0md\u001b[0m\u001b[0;34m[\u001b[0m\u001b[0;36m0\u001b[0m\u001b[0;34m]\u001b[0m\u001b[0;34m\u001b[0m\u001b[0m\n\u001b[0m",
        "\u001b[0;31mKeyError\u001b[0m: 0"
       ]
      }
     ],
     "prompt_number": 30
    },
    {
     "cell_type": "markdown",
     "metadata": {},
     "source": [
      "Or if we ran these two lines in the REPL...\n",
      "\n",
      "    Traceback (most recent call last):\n",
      "      File \"<stdin>\", line 1, in <module>\n",
      "    KeyError: 0"
     ]
    },
    {
     "cell_type": "markdown",
     "metadata": {},
     "source": [
      "So what's a ``KeyError``?\n",
      "https://wiki.python.org/moin/KeyError"
     ]
    },
    {
     "cell_type": "code",
     "collapsed": false,
     "input": [
      "d.get(0, 'Woot')"
     ],
     "language": "python",
     "metadata": {},
     "outputs": [
      {
       "metadata": {},
       "output_type": "pyout",
       "prompt_number": 31,
       "text": [
        "'Woot'"
       ]
      }
     ],
     "prompt_number": 31
    },
    {
     "cell_type": "markdown",
     "metadata": {},
     "source": [
      "    ---------------------------------------------------------------------------\n",
      "    NameError                                 Traceback (most recent call last)\n",
      "    <ipython-input-57-bb4e4829bd83> in <module>()\n",
      "          1 book1 = Book('Sun on a Sunday: A day at the beach!', 'Glenda Roberts', 49)\n",
      "          2 book1.printed_pages()\n",
      "    ----> 3 book1.cost()\n",
      "    \n",
      "    <ipython-input-56-5f6ed6724802> in cost(self)\n",
      "          9 \n",
      "         10     def cost(self):\n",
      "    ---> 11         return math.sqrt(self.printed_pages())\n",
      "    \n",
      "    NameError: global name 'math' is not defined"
     ]
    },
    {
     "cell_type": "markdown",
     "metadata": {},
     "source": [
      "https://docs.python.org/2/library/exceptions.html#exceptions.NameError"
     ]
    },
    {
     "cell_type": "markdown",
     "metadata": {},
     "source": [
      "This gives us a little more info on what is going on: \n",
      "\n",
      "    global name 'math' is not defined"
     ]
    },
    {
     "cell_type": "markdown",
     "metadata": {},
     "source": [
      "### pdb (The Python Debugger)    \n",
      "#### https://docs.python.org/2/library/pdb.html#module-pdb"
     ]
    },
    {
     "cell_type": "markdown",
     "metadata": {},
     "source": [
      "#### Lets debug!\n",
      "\n",
      "    n(ext)\n",
      "    s(tep)\n",
      "    c(ontinue)\n",
      "    q(uit)"
     ]
    },
    {
     "cell_type": "markdown",
     "metadata": {},
     "source": [
      "Exercise #1"
     ]
    },
    {
     "cell_type": "code",
     "collapsed": false,
     "input": [
      "def broken_addition(x, y):\n",
      "    return_value = x + y + 1\n",
      "    return return_value\n",
      "broken_addition(1, 1)"
     ],
     "language": "python",
     "metadata": {},
     "outputs": [
      {
       "metadata": {},
       "output_type": "pyout",
       "prompt_number": 32,
       "text": [
        "3"
       ]
      }
     ],
     "prompt_number": 32
    },
    {
     "cell_type": "markdown",
     "metadata": {},
     "source": [
      "    def broken_addition(x, y):\n",
      "        import pdb; pdb.set_trace()\n",
      "        return_value = x + y + 1\n",
      "        return return_value\n",
      "    broken_addition(1, 1)\n",
      "    \n",
      "or \n",
      "\n",
      "    $ python -m pdb path/to/broken_addition.py"
     ]
    },
    {
     "cell_type": "markdown",
     "metadata": {},
     "source": [
      "Exercise #2"
     ]
    },
    {
     "cell_type": "markdown",
     "metadata": {},
     "source": [
      "    $ python -c \"import this\" > ~/zen"
     ]
    },
    {
     "cell_type": "markdown",
     "metadata": {},
     "source": [
      "    with open('/Users/paul/zen') as fd:\n",
      "        lines = fd.read()\n",
      "        for line in lines:\n",
      "            print line "
     ]
    },
    {
     "cell_type": "markdown",
     "metadata": {},
     "source": [
      "#### Lets raise our own exceptions."
     ]
    },
    {
     "cell_type": "code",
     "collapsed": false,
     "input": [
      "def subtract(x, y):\n",
      "    \"\"\"\n",
      "    This function should aways return a non-negative value.\n",
      "    \"\"\"\n",
      "    if x < y:\n",
      "        raise ValueError('Value received for x is less ' \n",
      "                         'than y. This is not allowed.')\n",
      "    return x - y"
     ],
     "language": "python",
     "metadata": {},
     "outputs": [],
     "prompt_number": 33
    },
    {
     "cell_type": "code",
     "collapsed": false,
     "input": [
      "s = subtract(4, 5)"
     ],
     "language": "python",
     "metadata": {},
     "outputs": [
      {
       "ename": "ValueError",
       "evalue": "Value received for x is less than y. This is not allowed.",
       "output_type": "pyerr",
       "traceback": [
        "\u001b[0;31m---------------------------------------------------------------------------\u001b[0m\n\u001b[0;31mValueError\u001b[0m                                Traceback (most recent call last)",
        "\u001b[0;32m<ipython-input-34-33b35e5eb084>\u001b[0m in \u001b[0;36m<module>\u001b[0;34m()\u001b[0m\n\u001b[0;32m----> 1\u001b[0;31m \u001b[0ms\u001b[0m \u001b[0;34m=\u001b[0m \u001b[0msubtract\u001b[0m\u001b[0;34m(\u001b[0m\u001b[0;36m4\u001b[0m\u001b[0;34m,\u001b[0m \u001b[0;36m5\u001b[0m\u001b[0;34m)\u001b[0m\u001b[0;34m\u001b[0m\u001b[0m\n\u001b[0m",
        "\u001b[0;32m<ipython-input-33-058ac3c66f02>\u001b[0m in \u001b[0;36msubtract\u001b[0;34m(x, y)\u001b[0m\n\u001b[1;32m      4\u001b[0m     \"\"\"\n\u001b[1;32m      5\u001b[0m     \u001b[0;32mif\u001b[0m \u001b[0mx\u001b[0m \u001b[0;34m<\u001b[0m \u001b[0my\u001b[0m\u001b[0;34m:\u001b[0m\u001b[0;34m\u001b[0m\u001b[0m\n\u001b[0;32m----> 6\u001b[0;31m         raise ValueError('Value received for x is less ' \n\u001b[0m\u001b[1;32m      7\u001b[0m                          'than y. This is not allowed.')\n\u001b[1;32m      8\u001b[0m     \u001b[0;32mreturn\u001b[0m \u001b[0mx\u001b[0m \u001b[0;34m-\u001b[0m \u001b[0my\u001b[0m\u001b[0;34m\u001b[0m\u001b[0m\n",
        "\u001b[0;31mValueError\u001b[0m: Value received for x is less than y. This is not allowed."
       ]
      }
     ],
     "prompt_number": 34
    },
    {
     "cell_type": "markdown",
     "metadata": {},
     "source": [
      "Exception Hierarchy: https://docs.python.org/2/library/exceptions.html#exception-hierarchy"
     ]
    },
    {
     "cell_type": "markdown",
     "metadata": {},
     "source": [
      "#### Let's handle this."
     ]
    },
    {
     "cell_type": "code",
     "collapsed": false,
     "input": [
      "def this_might_work():\n",
      "    raise ValueError('Nope')\n",
      "    raise StandardError('Sorry')\n",
      "    raise BufferError('rebuffed')\n",
      "    raise ArithmeticError('better check your numbers')\n",
      "    raise FloatingPointError('')\n",
      "    raise OverflowError('')\n",
      "    raise ZeroDivisionError('')\n",
      "    \n",
      "    print ('hi!')\n",
      "\n",
      "this_might_work()"
     ],
     "language": "python",
     "metadata": {},
     "outputs": [
      {
       "ename": "ValueError",
       "evalue": "Nope",
       "output_type": "pyerr",
       "traceback": [
        "\u001b[0;31m---------------------------------------------------------------------------\u001b[0m\n\u001b[0;31mValueError\u001b[0m                                Traceback (most recent call last)",
        "\u001b[0;32m<ipython-input-35-5f5b22f4afeb>\u001b[0m in \u001b[0;36m<module>\u001b[0;34m()\u001b[0m\n\u001b[1;32m     10\u001b[0m     \u001b[0;32mprint\u001b[0m \u001b[0;34m(\u001b[0m\u001b[0;34m'hi!'\u001b[0m\u001b[0;34m)\u001b[0m\u001b[0;34m\u001b[0m\u001b[0m\n\u001b[1;32m     11\u001b[0m \u001b[0;34m\u001b[0m\u001b[0m\n\u001b[0;32m---> 12\u001b[0;31m \u001b[0mthis_might_work\u001b[0m\u001b[0;34m(\u001b[0m\u001b[0;34m)\u001b[0m\u001b[0;34m\u001b[0m\u001b[0m\n\u001b[0m",
        "\u001b[0;32m<ipython-input-35-5f5b22f4afeb>\u001b[0m in \u001b[0;36mthis_might_work\u001b[0;34m()\u001b[0m\n\u001b[1;32m      1\u001b[0m \u001b[0;32mdef\u001b[0m \u001b[0mthis_might_work\u001b[0m\u001b[0;34m(\u001b[0m\u001b[0;34m)\u001b[0m\u001b[0;34m:\u001b[0m\u001b[0;34m\u001b[0m\u001b[0m\n\u001b[0;32m----> 2\u001b[0;31m     \u001b[0;32mraise\u001b[0m \u001b[0mValueError\u001b[0m\u001b[0;34m(\u001b[0m\u001b[0;34m'Nope'\u001b[0m\u001b[0;34m)\u001b[0m\u001b[0;34m\u001b[0m\u001b[0m\n\u001b[0m\u001b[1;32m      3\u001b[0m     \u001b[0;32mraise\u001b[0m \u001b[0mStandardError\u001b[0m\u001b[0;34m(\u001b[0m\u001b[0;34m'Sorry'\u001b[0m\u001b[0;34m)\u001b[0m\u001b[0;34m\u001b[0m\u001b[0m\n\u001b[1;32m      4\u001b[0m     \u001b[0;32mraise\u001b[0m \u001b[0mBufferError\u001b[0m\u001b[0;34m(\u001b[0m\u001b[0;34m'rebuffed'\u001b[0m\u001b[0;34m)\u001b[0m\u001b[0;34m\u001b[0m\u001b[0m\n\u001b[1;32m      5\u001b[0m     \u001b[0;32mraise\u001b[0m \u001b[0mArithmeticError\u001b[0m\u001b[0;34m(\u001b[0m\u001b[0;34m'better check your numbers'\u001b[0m\u001b[0;34m)\u001b[0m\u001b[0;34m\u001b[0m\u001b[0m\n",
        "\u001b[0;31mValueError\u001b[0m: Nope"
       ]
      }
     ],
     "prompt_number": 35
    },
    {
     "cell_type": "code",
     "collapsed": false,
     "input": [
      "try:\n",
      "    this_might_work()\n",
      "except:\n",
      "    print (\"Didn't work out this time\")"
     ],
     "language": "python",
     "metadata": {},
     "outputs": [
      {
       "output_type": "stream",
       "stream": "stdout",
       "text": [
        "Didn't work out this time\n"
       ]
      }
     ],
     "prompt_number": 36
    },
    {
     "cell_type": "code",
     "collapsed": false,
     "input": [
      "try:\n",
      "    this_might_work()\n",
      "except:\n",
      "    print (\"Didn't work out this time\")\n",
      "finally:\n",
      "    print (\"Let's Dance\")"
     ],
     "language": "python",
     "metadata": {},
     "outputs": [
      {
       "output_type": "stream",
       "stream": "stdout",
       "text": [
        "Didn't work out this time\n",
        "Let's Dance\n"
       ]
      }
     ],
     "prompt_number": 37
    },
    {
     "cell_type": "markdown",
     "metadata": {},
     "source": [
      "## unit tests!"
     ]
    },
    {
     "cell_type": "code",
     "collapsed": false,
     "input": [
      "def addition(x, y):\n",
      "    return x + y + 1\n",
      "\n",
      "class PyLadiesTC(unittest.TestCase):\n",
      "    def test_best_practices(self):\n",
      "        return_value = addition(1, 2)\n",
      "        self.assertEqual(return_value, 3)\n",
      "\n",
      "suite = unittest.TestLoader().loadTestsFromTestCase(PyLadiesTC)\n",
      "unittest.TextTestRunner().run(suite)"
     ],
     "language": "python",
     "metadata": {},
     "outputs": [
      {
       "output_type": "stream",
       "stream": "stderr",
       "text": [
        "F"
       ]
      },
      {
       "output_type": "stream",
       "stream": "stderr",
       "text": [
        "\n",
        "======================================================================\n",
        "FAIL: test_best_practices (__main__.PyLadiesTC)\n",
        "----------------------------------------------------------------------\n",
        "Traceback (most recent call last):\n",
        "  File \"<ipython-input-38-6218f542afae>\", line 7, in test_best_practices\n",
        "    self.assertEqual(return_value, 3)\n",
        "AssertionError: 4 != 3\n",
        "\n",
        "----------------------------------------------------------------------\n",
        "Ran 1 test in 0.001s\n",
        "\n",
        "FAILED (failures=1)\n"
       ]
      },
      {
       "metadata": {},
       "output_type": "pyout",
       "prompt_number": 38,
       "text": [
        "<unittest.runner.TextTestResult run=1 errors=0 failures=1>"
       ]
      }
     ],
     "prompt_number": 38
    },
    {
     "cell_type": "code",
     "collapsed": false,
     "input": [
      "def check_facebook():\n",
      "    sys.stdout.write(\"Checking FB\\n\")\n",
      "    sys.stdout.flush()\n",
      "    \n",
      "def addition(x, y):\n",
      "    return_value = x + y + 1\n",
      "    return return_value\n",
      "\n",
      "class PyLadiesTC(unittest.TestCase):\n",
      "    def setUp(self):\n",
      "        sys.stdout.write(\"Let's test\\n\")\n",
      "        sys.stdout.flush()\n",
      "\n",
      "    def tearDown(self):\n",
      "        sys.stdout.write('All done with thit unit test\\n')\n",
      "        sys.stdout.flush()\n",
      "\n",
      "    def test_my_addition_func_0(self):\n",
      "        return_value = addition(1, 3)\n",
      "        self.assertEqual(return_value, 4)\n",
      "    \n",
      "    def test_my_addition_func_1(self):\n",
      "        return_value = addition(100, 100)\n",
      "        self.assertEqual(return_value, 200)\n",
      "\n",
      "    def love_testing(self):\n",
      "        \"\"\"Methods must start with test* to be run as a test\"\"\"\n",
      "        check_facebook()\n",
      "\n",
      "suite = unittest.TestLoader().loadTestsFromTestCase(PyLadiesTC)\n",
      "unittest.TextTestRunner().run(suite)"
     ],
     "language": "python",
     "metadata": {},
     "outputs": [
      {
       "output_type": "stream",
       "stream": "stdout",
       "text": [
        "Let's test\n"
       ]
      },
      {
       "output_type": "stream",
       "stream": "stderr",
       "text": [
        "F"
       ]
      },
      {
       "output_type": "stream",
       "stream": "stdout",
       "text": [
        "All done with thit unit test\n"
       ]
      },
      {
       "output_type": "stream",
       "stream": "stdout",
       "text": [
        "Let's test\n"
       ]
      },
      {
       "output_type": "stream",
       "stream": "stderr",
       "text": [
        "F"
       ]
      },
      {
       "output_type": "stream",
       "stream": "stdout",
       "text": [
        "All done with thit unit test\n"
       ]
      },
      {
       "output_type": "stream",
       "stream": "stderr",
       "text": [
        "\n",
        "======================================================================\n",
        "FAIL: test_my_addition_func_0 (__main__.PyLadiesTC)\n",
        "----------------------------------------------------------------------\n",
        "Traceback (most recent call last):\n",
        "  File \"<ipython-input-39-857bb1e0bbaf>\", line 20, in test_my_addition_func_0\n",
        "    self.assertEqual(return_value, 4)\n",
        "AssertionError: 5 != 4\n",
        "\n",
        "======================================================================\n",
        "FAIL: test_my_addition_func_1 (__main__.PyLadiesTC)\n",
        "----------------------------------------------------------------------\n",
        "Traceback (most recent call last):\n",
        "  File \"<ipython-input-39-857bb1e0bbaf>\", line 24, in test_my_addition_func_1\n",
        "    self.assertEqual(return_value, 200)\n",
        "AssertionError: 201 != 200\n",
        "\n",
        "----------------------------------------------------------------------\n",
        "Ran 2 tests in 0.002s\n",
        "\n",
        "FAILED (failures=2)\n"
       ]
      },
      {
       "metadata": {},
       "output_type": "pyout",
       "prompt_number": 39,
       "text": [
        "<unittest.runner.TextTestResult run=2 errors=0 failures=2>"
       ]
      }
     ],
     "prompt_number": 39
    },
    {
     "cell_type": "markdown",
     "metadata": {},
     "source": [
      "## requests & BeautifulSoup"
     ]
    },
    {
     "cell_type": "code",
     "collapsed": false,
     "input": [
      "r = requests.get('http://www.nytimes.com/')\n",
      "r"
     ],
     "language": "python",
     "metadata": {},
     "outputs": [
      {
       "metadata": {},
       "output_type": "pyout",
       "prompt_number": 40,
       "text": [
        "<Response [200]>"
       ]
      }
     ],
     "prompt_number": 40
    },
    {
     "cell_type": "code",
     "collapsed": false,
     "input": [
      "r.content[:200]"
     ],
     "language": "python",
     "metadata": {},
     "outputs": [
      {
       "metadata": {},
       "output_type": "pyout",
       "prompt_number": 75,
       "text": [
        "'<!DOCTYPE html>\\n<!--[if IE]><![endif]-->\\n<html lang=\"en\" class=\"NYT5Style\">\\n<head>\\n<title>The New York Times - Breaking News, World News &amp; Multimedia</title>\\n<meta http-equiv=\"X-UA-Compatible\" con'"
       ]
      }
     ],
     "prompt_number": 75
    },
    {
     "cell_type": "code",
     "collapsed": false,
     "input": [
      "soup = BeautifulSoup(r.content)"
     ],
     "language": "python",
     "metadata": {},
     "outputs": [],
     "prompt_number": 76
    },
    {
     "cell_type": "code",
     "collapsed": false,
     "input": [
      "soup = soup.find_all('a')"
     ],
     "language": "python",
     "metadata": {},
     "outputs": [],
     "prompt_number": 77
    },
    {
     "cell_type": "code",
     "collapsed": false,
     "input": [
      "text = [link.text.strip() for link in soup if link.text and link.text.strip()]\n",
      "text[:10]"
     ],
     "language": "python",
     "metadata": {},
     "outputs": [
      {
       "metadata": {},
       "output_type": "pyout",
       "prompt_number": 79,
       "text": [
        "[u'Subscribe Now',\n",
        " u'Try Home Delivery for 50% Off 12 Weeks Plus Free All Digital Access',\n",
        " u'All print options include free, unlimited access to NYTimes.com, NYTimes apps and NYT Now.',\n",
        " u'Get Home Delivery',\n",
        " u'Try a Digital Subscription Today for Just 99\\xa2 for Your First 4 Weeks',\n",
        " u'Get unlimited access to NYTimes.com, NYTimes apps,plus free NYT Now.',\n",
        " u'Get Digital',\n",
        " u'Try NYT Now and Get Your First 4 Weeks Free',\n",
        " u'A selection of top stories,handpicked by editors. Available on NYTimes.com and a new iPhone\\xae app.',\n",
        " u'Get NYT Now']"
       ]
      }
     ],
     "prompt_number": 79
    },
    {
     "cell_type": "code",
     "collapsed": false,
     "input": [
      "words = []\n",
      "for phrase in text:\n",
      "    if ' ' in phrase:\n",
      "        words += phrase.split(' ')\n",
      "    else:\n",
      "        words.append(phrase)\n",
      "words[:10]"
     ],
     "language": "python",
     "metadata": {},
     "outputs": [
      {
       "metadata": {},
       "output_type": "pyout",
       "prompt_number": 80,
       "text": [
        "[u'Subscribe',\n",
        " u'Now',\n",
        " u'Try',\n",
        " u'Home',\n",
        " u'Delivery',\n",
        " u'for',\n",
        " u'50%',\n",
        " u'Off',\n",
        " u'12',\n",
        " u'Weeks']"
       ]
      }
     ],
     "prompt_number": 80
    },
    {
     "cell_type": "code",
     "collapsed": false,
     "input": [
      "counter = Counter(words).most_common()[-10:]\n",
      "counter"
     ],
     "language": "python",
     "metadata": {},
     "outputs": [
      {
       "metadata": {},
       "output_type": "pyout",
       "prompt_number": 46,
       "text": [
        "[(u'Making', 1),\n",
        " (u'Download', 1),\n",
        " (u'Essay', 1),\n",
        " (u'DEPARTING', 1),\n",
        " (u'Al', 1),\n",
        " (u'Well,', 1),\n",
        " (u'As', 1),\n",
        " (u'Spiders', 1),\n",
        " (u'Chicken', 1),\n",
        " (u'Begins', 1)]"
       ]
      }
     ],
     "prompt_number": 46
    },
    {
     "cell_type": "markdown",
     "metadata": {},
     "source": [
      "## Graphing some data with matplotlib \n",
      "#### (from J.R. Johansson's tutorial)"
     ]
    },
    {
     "cell_type": "code",
     "collapsed": false,
     "input": [
      "%matplotlib inline\n",
      "import matplotlib.pyplot as plt\n",
      "from pylab import linspace"
     ],
     "language": "python",
     "metadata": {},
     "outputs": [],
     "prompt_number": 47
    },
    {
     "cell_type": "code",
     "collapsed": false,
     "input": [
      "x = linspace(0, 100)\n",
      "y = x ** 2\n",
      "\n",
      "plt.figure(figsize=(12, 8))\n",
      "plt.plot(x, y, 'r')\n",
      "plt.xlabel('x')\n",
      "plt.ylabel('y')\n",
      "plt.title('My x squared graph')\n",
      "plt.show()"
     ],
     "language": "python",
     "metadata": {},
     "outputs": [
      {
       "metadata": {},
       "output_type": "display_data",
       "png": "[encoded data removed]",
       "text": [
        "<matplotlib.figure.Figure at 0x10d834b90>"
       ]
      }
     ],
     "prompt_number": 48
    },
    {
     "cell_type": "code",
     "collapsed": false,
     "input": [
      "from mpl_toolkits.mplot3d.axes3d import Axes3D\n",
      "from matplotlib.pylab import meshgrid\n",
      "from matplotlib.pylab import cos\n",
      "from matplotlib.pylab import cm\n",
      "\n",
      "alpha = 0.7\n",
      "pi = 3.14\n",
      "\n",
      "phi_ext = 2 * pi * 0.5\n",
      "\n",
      "phi_m = linspace(0, 2*pi, 100)\n",
      "phi_p = linspace(0, 2*pi, 100)\n",
      "\n",
      "X,Y = meshgrid(phi_p, phi_m)\n",
      "\n",
      "def flux_qubit_potential(phi_m, phi_p):\n",
      "    return 2 + alpha - 2 * cos(phi_p)*cos(phi_m) - alpha * cos(phi_ext - 2*phi_p)\n",
      "\n",
      "Z = flux_qubit_potential(X, Y).T\n",
      "\n",
      "fig = plt.figure(figsize=(12, 8))\n",
      "\n",
      "ax = fig.add_subplot(1,1,1, projection='3d')\n",
      "\n",
      "ax.plot_surface(X, Y, Z, rstride=4, cstride=4, alpha=0.25)\n",
      "cset = ax.contour(X, Y, Z, zdir='z', offset=-pi, cmap=cm.coolwarm)\n",
      "cset = ax.contour(X, Y, Z, zdir='x', offset=-pi, cmap=cm.coolwarm)\n",
      "cset = ax.contour(X, Y, Z, zdir='y', offset=3*pi, cmap=cm.coolwarm)\n",
      "\n",
      "ax.set_xlim3d(-pi, 2*pi);\n",
      "ax.set_ylim3d(0, 3*pi);\n",
      "ax.set_zlim3d(-pi, 2*pi);"
     ],
     "language": "python",
     "metadata": {},
     "outputs": [
      {
       "metadata": {},
       "output_type": "display_data",
       "png": "[encoded data removed]",
       "text": [
        "<matplotlib.figure.Figure at 0x10d834810>"
       ]
      }
     ],
     "prompt_number": 49
    },
    {
     "cell_type": "markdown",
     "metadata": {},
     "source": [
      "## Decorators"
     ]
    },
    {
     "cell_type": "markdown",
     "metadata": {},
     "source": [
      "A callable that takes another function as an argument."
     ]
    },
    {
     "cell_type": "code",
     "collapsed": false,
     "input": [
      "def add_one(x):\n",
      "    \"\"\"Simple function\"\"\"\n",
      "    return x + 1\n",
      "\n",
      "def add_two_more(function):\n",
      "    \"\"\"A decorator\"\"\"\n",
      "    def inner(z):\n",
      "        return function(z) + 2\n",
      "    return inner\n",
      "\n",
      "add_three = add_two_more(add_one)\n",
      "add_three(0)"
     ],
     "language": "python",
     "metadata": {},
     "outputs": [
      {
       "metadata": {},
       "output_type": "pyout",
       "prompt_number": 50,
       "text": [
        "3"
       ]
      }
     ],
     "prompt_number": 50
    },
    {
     "cell_type": "markdown",
     "metadata": {},
     "source": [
      "#### Alternate syntax"
     ]
    },
    {
     "cell_type": "code",
     "collapsed": false,
     "input": [
      "@add_two_more\n",
      "def to_few(n):\n",
      "    \"\"\"Just too few\"\"\"\n",
      "    return n\n",
      "\n",
      "print to_few(3)"
     ],
     "language": "python",
     "metadata": {},
     "outputs": [
      {
       "output_type": "stream",
       "stream": "stdout",
       "text": [
        "5\n"
       ]
      }
     ],
     "prompt_number": 51
    },
    {
     "cell_type": "code",
     "collapsed": false,
     "input": [
      "print to_few.__name__"
     ],
     "language": "python",
     "metadata": {},
     "outputs": [
      {
       "output_type": "stream",
       "stream": "stdout",
       "text": [
        "inner\n"
       ]
      }
     ],
     "prompt_number": 52
    },
    {
     "cell_type": "code",
     "collapsed": false,
     "input": [
      "print to_few.__doc__"
     ],
     "language": "python",
     "metadata": {},
     "outputs": [
      {
       "output_type": "stream",
       "stream": "stdout",
       "text": [
        "None\n"
       ]
      }
     ],
     "prompt_number": 53
    },
    {
     "cell_type": "markdown",
     "metadata": {},
     "source": [
      "https://docs.python.org/2/library/functools.html#functools.wraps"
     ]
    },
    {
     "cell_type": "code",
     "collapsed": false,
     "input": [
      "from functools import wraps\n",
      "\n",
      "def add_two_more(function):\n",
      "    \"\"\"A decorator\"\"\"\n",
      "    @wraps(function)\n",
      "    def wrapped_func(z):\n",
      "        return function(z) + 2\n",
      "    return wrapped_func"
     ],
     "language": "python",
     "metadata": {},
     "outputs": [],
     "prompt_number": 54
    },
    {
     "cell_type": "code",
     "collapsed": false,
     "input": [
      "@add_two_more\n",
      "def to_few(n):\n",
      "    \"\"\"Just too few\"\"\"\n",
      "    return n\n",
      "print to_few.__name__\n",
      "print to_few.__doc__"
     ],
     "language": "python",
     "metadata": {},
     "outputs": [
      {
       "output_type": "stream",
       "stream": "stdout",
       "text": [
        "to_few\n",
        "Just too few\n"
       ]
      }
     ],
     "prompt_number": 55
    },
    {
     "cell_type": "markdown",
     "metadata": {},
     "source": [
      "## ``*args`` & ``**kwargs``"
     ]
    },
    {
     "cell_type": "code",
     "collapsed": false,
     "input": [
      "def print_args(*args):\n",
      "    print args\n",
      "    for arg in args:\n",
      "        print arg\n",
      "\n",
      "print_args(1, 'plog', '***...***')"
     ],
     "language": "python",
     "metadata": {},
     "outputs": [
      {
       "output_type": "stream",
       "stream": "stdout",
       "text": [
        "(1, 'plog', '***...***')\n",
        "1\n",
        "plog\n",
        "***...***\n"
       ]
      }
     ],
     "prompt_number": 56
    },
    {
     "cell_type": "code",
     "collapsed": false,
     "input": [
      "def print_kwargs(**kwargs):\n",
      "    print kwargs\n",
      "    for key, value in kwargs.items():\n",
      "        print key, '=', value\n",
      "print_kwargs(genre='jazz', tempo='fast', action='dance')"
     ],
     "language": "python",
     "metadata": {},
     "outputs": [
      {
       "output_type": "stream",
       "stream": "stdout",
       "text": [
        "{'genre': 'jazz', 'action': 'dance', 'tempo': 'fast'}\n",
        "genre = jazz\n",
        "action = dance\n",
        "tempo = fast\n"
       ]
      }
     ],
     "prompt_number": 57
    },
    {
     "cell_type": "code",
     "collapsed": false,
     "input": [
      "def get_album(upc, artist=None, title=None, *args, **kwargs):\n",
      "    # ...\n",
      "    # I can use any extra args and kwargs, if given, to \n",
      "    # effect the result of this function.\n",
      "    pass"
     ],
     "language": "python",
     "metadata": {},
     "outputs": [],
     "prompt_number": 58
    },
    {
     "cell_type": "markdown",
     "metadata": {},
     "source": [
      "## Generators\n",
      "https://www.jeffknupp.com/blog/2013/04/07/improve-your-python-yield-and-generators-explained/"
     ]
    },
    {
     "cell_type": "code",
     "collapsed": false,
     "input": [
      "def integers(start=0):\n",
      "    while start < 3:\n",
      "        yield start\n",
      "        start += 1"
     ],
     "language": "python",
     "metadata": {},
     "outputs": [],
     "prompt_number": 59
    },
    {
     "cell_type": "code",
     "collapsed": false,
     "input": [
      "ints = integers()\n",
      "ints"
     ],
     "language": "python",
     "metadata": {},
     "outputs": [
      {
       "metadata": {},
       "output_type": "pyout",
       "prompt_number": 60,
       "text": [
        "<generator object integers at 0x10dd1bcd0>"
       ]
      }
     ],
     "prompt_number": 60
    },
    {
     "cell_type": "code",
     "collapsed": false,
     "input": [
      "ints.next()"
     ],
     "language": "python",
     "metadata": {},
     "outputs": [
      {
       "metadata": {},
       "output_type": "pyout",
       "prompt_number": 61,
       "text": [
        "0"
       ]
      }
     ],
     "prompt_number": 61
    },
    {
     "cell_type": "code",
     "collapsed": false,
     "input": [
      "ints.next()"
     ],
     "language": "python",
     "metadata": {},
     "outputs": [
      {
       "metadata": {},
       "output_type": "pyout",
       "prompt_number": 62,
       "text": [
        "1"
       ]
      }
     ],
     "prompt_number": 62
    },
    {
     "cell_type": "code",
     "collapsed": false,
     "input": [
      "ints.next()"
     ],
     "language": "python",
     "metadata": {},
     "outputs": [
      {
       "metadata": {},
       "output_type": "pyout",
       "prompt_number": 63,
       "text": [
        "2"
       ]
      }
     ],
     "prompt_number": 63
    },
    {
     "cell_type": "code",
     "collapsed": false,
     "input": [
      "ints.next()"
     ],
     "language": "python",
     "metadata": {},
     "outputs": [
      {
       "ename": "StopIteration",
       "evalue": "",
       "output_type": "pyerr",
       "traceback": [
        "\u001b[0;31m---------------------------------------------------------------------------\u001b[0m\n\u001b[0;31mStopIteration\u001b[0m                             Traceback (most recent call last)",
        "\u001b[0;32m<ipython-input-64-c5ac41f3b3a9>\u001b[0m in \u001b[0;36m<module>\u001b[0;34m()\u001b[0m\n\u001b[0;32m----> 1\u001b[0;31m \u001b[0mints\u001b[0m\u001b[0;34m.\u001b[0m\u001b[0mnext\u001b[0m\u001b[0;34m(\u001b[0m\u001b[0;34m)\u001b[0m\u001b[0;34m\u001b[0m\u001b[0m\n\u001b[0m",
        "\u001b[0;31mStopIteration\u001b[0m: "
       ]
      }
     ],
     "prompt_number": 64
    },
    {
     "cell_type": "code",
     "collapsed": false,
     "input": [
      "for j in integers(-2):\n",
      "    print j"
     ],
     "language": "python",
     "metadata": {},
     "outputs": []
    },
    {
     "cell_type": "code",
     "collapsed": false,
     "input": [
      "def pi_digits():\n",
      "    numerator, denominator = 22.0, 7.0\n",
      "    while True:\n",
      "        quotient, remainder = divmod(numerator, denominator)\n",
      "        yield int(quotient)\n",
      "        numerator = remainder * 10"
     ],
     "language": "python",
     "metadata": {},
     "outputs": []
    },
    {
     "cell_type": "code",
     "collapsed": false,
     "input": [
      "digits = pi_digits()\n",
      "[digits.next() for _ in xrange(10)]"
     ],
     "language": "python",
     "metadata": {},
     "outputs": []
    },
    {
     "cell_type": "code",
     "collapsed": false,
     "input": [
      "22 / 7.0"
     ],
     "language": "python",
     "metadata": {},
     "outputs": []
    },
    {
     "cell_type": "code",
     "collapsed": false,
     "input": [
      "21.99119 / 7.0"
     ],
     "language": "python",
     "metadata": {},
     "outputs": []
    },
    {
     "cell_type": "markdown",
     "metadata": {},
     "source": [
      "## Extra Fun"
     ]
    },
    {
     "cell_type": "markdown",
     "metadata": {},
     "source": [
      "    $ pip install pyladies"
     ]
    },
    {
     "cell_type": "markdown",
     "metadata": {},
     "source": [
      "## Bibilography"
     ]
    },
    {
     "cell_type": "markdown",
     "metadata": {},
     "source": [
      "- http://nbviewer.ipython.org/github/jrjohansson/scientific-python-lectures/blob/master/Lecture-4-Matplotlib.ipynb\n",
      "- http://blog.dscpl.com.au/search/label/decorators"
     ]
    }
   ],
   "metadata": {}
  }
 ]
}